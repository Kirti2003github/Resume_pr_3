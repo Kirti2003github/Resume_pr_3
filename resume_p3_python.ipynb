{
 "cells": [
  {
   "cell_type": "code",
   "execution_count": null,
   "id": "8e1627cd",
   "metadata": {},
   "outputs": [],
   "source": [
    "import pandas as pd\n",
    "import numpy as np\n",
    "import matplotlib.pyplot as plt\n",
    "import seaborn as sns\n",
    "%matplotlib inline"
   ]
  },
  {
   "cell_type": "code",
   "execution_count": null,
   "id": "d2dfaafd",
   "metadata": {},
   "outputs": [],
   "source": [
    "df_date=pd.read_csv('dim_date.csv')"
   ]
  },
  {
   "cell_type": "code",
   "execution_count": null,
   "id": "ce29e94d",
   "metadata": {},
   "outputs": [],
   "source": [
    "df_date.info()\n",
    "df_date.head()"
   ]
  },
  {
   "cell_type": "code",
   "execution_count": null,
   "id": "599b4567",
   "metadata": {},
   "outputs": [],
   "source": [
    "df_date['fiscal_year'].value_counts()"
   ]
  },
  {
   "cell_type": "code",
   "execution_count": null,
   "id": "17999413",
   "metadata": {},
   "outputs": [],
   "source": [
    "df_district=pd.read_csv('dim_districts.csv')"
   ]
  },
  {
   "cell_type": "code",
   "execution_count": null,
   "id": "6c2b84cd",
   "metadata": {},
   "outputs": [],
   "source": [
    "df_district.info()"
   ]
  },
  {
   "cell_type": "code",
   "execution_count": null,
   "id": "eb0c1534",
   "metadata": {},
   "outputs": [],
   "source": [
    "df_fact_stamps=pd.read_csv('fact_stamps.csv')"
   ]
  },
  {
   "cell_type": "code",
   "execution_count": null,
   "id": "b07a654c",
   "metadata": {},
   "outputs": [],
   "source": [
    "df_fact_stamps.info()"
   ]
  },
  {
   "cell_type": "code",
   "execution_count": null,
   "id": "60ca700c",
   "metadata": {
    "scrolled": true
   },
   "outputs": [],
   "source": [
    "sns.histplot(x=df_fact_stamps['documents_registered_cnt'],kde=True)\n",
    "print('The graph looks like a log-normal distribution')\n",
    "#sns.boxplot(x=df_fact_stamps['documents_registered_cnt'])\n",
    "\n"
   ]
  },
  {
   "cell_type": "code",
   "execution_count": null,
   "id": "9f3d0417",
   "metadata": {},
   "outputs": [],
   "source": [
    "sns.histplot(x=df_fact_stamps['estamps_challans_cnt'])\n",
    "#sns.boxplot(x=df_fact_stamps['estamps_challans_cnt'])"
   ]
  },
  {
   "cell_type": "markdown",
   "id": "edbfc60b",
   "metadata": {},
   "source": [
    "STAMP REGISTRATION\n",
    "\n",
    "Q1 TOP AND BOTTOM FIVE DISTRICTS BASED ON REVENUE COLLECTED FROM DOCUMENT REGISTRATION AND E-CHALLANS"
   ]
  },
  {
   "cell_type": "code",
   "execution_count": null,
   "id": "dba15e8c",
   "metadata": {},
   "outputs": [],
   "source": [
    "print('TOP 5 DISTRICTS BASED ON REVENUE COLLECTED FROM DOCUMENTS REGISTERED')\n",
    "df_fact_stamps_district=pd.merge(left=df_district,right=df_fact_stamps,on='dist_code',how='inner')\n",
    "df_fact_stamps_district.groupby(by='district')['documents_registered_rev'].sum().sort_values(ascending=False).head(5)"
   ]
  },
  {
   "cell_type": "code",
   "execution_count": null,
   "id": "8a219902",
   "metadata": {},
   "outputs": [],
   "source": [
    "print('BOTTOM 5 DISTRICTS BASED ON REVENUE COLLECTED FROM DOCUMENTS REGISTERED')\n",
    "\n",
    "df_fact_stamps_district.groupby(by='district')['documents_registered_rev'].sum().sort_values().head(5)"
   ]
  },
  {
   "cell_type": "code",
   "execution_count": null,
   "id": "b75622a9",
   "metadata": {},
   "outputs": [],
   "source": [
    "print('TOP 5 DISTRICTS BASED ON TOTAL DOCUMENTED COLLECTED')\n",
    "\n",
    "df_fact_stamps_district.groupby(by='district')['documents_registered_cnt'].sum().sort_values(ascending=False).head(5)"
   ]
  },
  {
   "cell_type": "code",
   "execution_count": null,
   "id": "30eb488a",
   "metadata": {},
   "outputs": [],
   "source": [
    "print('BOTTOM 5 DISTRICTS BASED ON TOTAL DOCUMENTED COLLECTED')\n",
    "\n",
    "df_fact_stamps_district.groupby(by='district')['documents_registered_cnt'].sum().sort_values().head(5)"
   ]
  },
  {
   "cell_type": "code",
   "execution_count": null,
   "id": "1d697ea0",
   "metadata": {},
   "outputs": [],
   "source": [
    "print('BOTTOM 5 DISTRICTS BASED ON REVENUE COLLECTED FROM ESTAMPS')\n",
    "\n",
    "df_fact_stamps_district.groupby(by='district')['estamps_challans_rev'].sum().sort_values().head(5)"
   ]
  },
  {
   "cell_type": "code",
   "execution_count": null,
   "id": "3bde30da",
   "metadata": {},
   "outputs": [],
   "source": [
    "print('TOP 5 DISTRICTS BASED ON REVENUE COLLECTED FROM ESTAMPS')\n",
    "\n",
    "\n",
    "df_fact_stamps_district.groupby(by='district')['estamps_challans_rev'].sum().sort_values(ascending=False).head(5)"
   ]
  },
  {
   "cell_type": "code",
   "execution_count": null,
   "id": "70c3ccd7",
   "metadata": {},
   "outputs": [],
   "source": [
    "#month\n",
    "df_fact_stamps_district.groupby(by='month')['estamps_challans_rev'].sum().sort_values(ascending=False).head(5)"
   ]
  },
  {
   "cell_type": "markdown",
   "id": "27e9e3eb",
   "metadata": {},
   "source": [
    "Q2. top 5 districts where e-stamps revenue contributes \n",
    "significantly more to the revenue than the documents in 2022"
   ]
  },
  {
   "cell_type": "code",
   "execution_count": null,
   "id": "0ee04e86",
   "metadata": {},
   "outputs": [],
   "source": [
    "from datetime import datetime\n",
    "df_fact_stamps_district['date']=df_fact_stamps_district['month'].apply(lambda x:datetime.strptime(x, '%Y-%m-%d'))\n",
    "df_fact_stamps_district['year']=df_fact_stamps_district['date'].apply(lambda x:x.year)\n",
    "\"\"\"\"\"\n",
    "left=df_fact_stamps_district.groupby(by='district','')['documents_registered_rev'].sum().to_frame().reset_index()\n",
    "right=df_fact_stamps_district.groupby(by='district')['estamps_challans_rev'].sum().to_frame().reset_index()\n",
    "\n",
    "pd.merge(left=left,right=right,on='district',how='inner')[pd.merge(left=left,right=right,on='district',how='inner')['estamps_challans_rev']>pd.merge(left=left,right=right,on='district',how='inner')['documents_registered_rev']]\n",
    "\"\"\"\"\"\n",
    "\n",
    "left=df_fact_stamps_district.groupby(by=['district','year'])['documents_registered_rev'].sum().to_frame().reset_index()\n",
    "right=df_fact_stamps_district.groupby(by=['district','year'])['estamps_challans_rev'].sum().to_frame().reset_index()\n",
    "\n",
    "left[left['year']==2022]\n",
    "print('TOP 5 DISTRICTS WHERE e-stamps revenue contributes significantly more to the revenue than the documents in FY 2022')\n",
    "df_documents_estamps=pd.merge(left=left[left['year']==2022],right=right[right['year']==2022],on=['district','year'],how='inner')\n",
    "df_documents_estamps['diff_estamp_registered']=df_documents_estamps['estamps_challans_rev']-df_documents_estamps['documents_registered_rev']\n",
    "df_documents_estamps.sort_values(by='diff_estamp_registered',ascending=False).head(5)\n"
   ]
  },
  {
   "cell_type": "code",
   "execution_count": null,
   "id": "55ff193b",
   "metadata": {},
   "outputs": [],
   "source": [
    "print('It shows that the relationship between revenue generated from document registration compare to the revenue generated from e-stamp challans across districts is linear')\n",
    "sns.lmplot(data=df_fact_stamps_district,x='estamps_challans_rev',y='documents_registered_rev',hue='district')\n"
   ]
  },
  {
   "cell_type": "code",
   "execution_count": null,
   "id": "a475ee9e",
   "metadata": {},
   "outputs": [],
   "source": [
    "print('High co-relationship exists between estamps-revenue and revenue generated from documents')\n",
    "print(sns.heatmap(np.corrcoef(df_fact_stamps_district['estamps_challans_rev'],df_fact_stamps_district['documents_registered_rev']),annot=True))"
   ]
  },
  {
   "cell_type": "markdown",
   "id": "3a0ef5ec",
   "metadata": {},
   "source": [
    "Q3. Alteration of e-Stamp challan count and document \n",
    "registration count pattern since the implementation of e-Stamp \n",
    "challan"
   ]
  },
  {
   "cell_type": "code",
   "execution_count": null,
   "id": "40de25a9",
   "metadata": {},
   "outputs": [],
   "source": [
    "\n",
    "df_fact_stamps_district.groupby(by='date')['estamps_challans_rev'].sum().sort_values(ascending=False).plot()\n",
    "\n",
    "print('from the graph we can stay that the revenue from estamps challans started from jan 2021 and was at peak in jan 2022 and is still increasing')"
   ]
  },
  {
   "cell_type": "code",
   "execution_count": null,
   "id": "9eb938f3",
   "metadata": {},
   "outputs": [],
   "source": [
    "df_fact_stamps_district.groupby(by='date')['documents_registered_rev'].sum().sort_values(ascending=False).plot()\n",
    "\n",
    "print('from the graph we can say that revenue generated from documents registeration had an average value upto 2020 after which it started decreasing in july 2020 and after july 2021 revenue stated increasing')"
   ]
  },
  {
   "cell_type": "code",
   "execution_count": null,
   "id": "9b4b19df",
   "metadata": {},
   "outputs": [],
   "source": [
    "df_fact_stamps_district.groupby(by='date')['documents_registered_cnt'].sum().plot()\n",
    "\n",
    "print('from the graph we can say that more people register upto 2020 but their revenue is smaller while after july 2021 the revenue generated is more with respect to total documents registered')\n",
    "print('This indicates that fees of documents registeration was comparitevely less than todays time')\n",
    "\n",
    "\n",
    "#df_fact_stamps_district.groupby(by='date')['documents_registered_cnt'].sum().index\n"
   ]
  },
  {
   "cell_type": "code",
   "execution_count": null,
   "id": "7cc321d6",
   "metadata": {},
   "outputs": [],
   "source": [
    "import seaborn as sns\n",
    "\n",
    "# Sample data creation\n",
    "data = {'Date':df_fact_stamps_district.groupby(by='date')['documents_registered_cnt'].sum().index,\n",
    "        'documents_registered_cnt': df_fact_stamps_district.groupby(by='date')['documents_registered_cnt'].sum().values,\n",
    "        'estamps_challans_cnt': df_fact_stamps_district.groupby(by='date')['estamps_challans_cnt'].sum().values}\n",
    "\n",
    "df = pd.DataFrame(data)\n",
    "df['Date'] = pd.to_datetime(df['Date'])  # Convert 'Date' column to datetime format\n",
    "\n",
    "# Melt the DataFrame to make it suitable for Seaborn's lineplot\n",
    "df_melted = df.melt(id_vars='Date', var_name='Feature', value_name='Value')\n",
    "\n",
    "# Plotting using Seaborn\n",
    "plt.figure(figsize=(10, 6))\n",
    "sns.lineplot(x='Date', y='Value', hue='Feature', data=df_melted, marker='o')\n",
    "\n",
    "plt.title('Comparison of documents_registered_cnt and estamps_challans_cnt over Time')\n",
    "plt.xlabel('Date')\n",
    "plt.ylabel('Feature Values')\n",
    "plt.legend()\n",
    "plt.grid(True)\n",
    "plt.show()\n"
   ]
  },
  {
   "cell_type": "markdown",
   "id": "83d58c93",
   "metadata": {},
   "source": [
    "Insight--> The graph shows after implementation of estamps challans the count of e-stamp challan increased than count of document registered count\n",
    "\n",
    "\n",
    "Suggestions--> This indicates people are more comfortable through online proces of estamps as it done anywhere at anytime. Government should take steps:\n",
    "\n",
    "1. Online Platforms and Portals:\n",
    "   - Establish user-friendly online platforms and portals for e-stamping services. This makes it easier for individuals and      businesses to access and use e-stamping services, reducing the need for physical visits to government offices.\n",
    "\n",
    "2. Public Awareness:\n",
    "   - Conduct public awareness campaigns to educate citizens, businesses, and professionals about the benefits of e-stamping. \n",
    "\n",
    "3. Accessibility and Inclusivity:\n",
    "   - Ensure that e-stamping services are accessible to a wide range of users, including those in rural areas or with limited access to technology. This may involve establishing physical service centers or mobile solutions to reach a broader audience.\n",
    "\n",
    "4. Data Security and Privacy:\n",
    "   - Implement robust data security measures and privacy protections to safeguard sensitive information collected during the e-stamping process. Compliance with data protection regulations is crucial for user trust and legal compliance.\n",
    "\n",
    "5. Electronic Payment Systems:\n",
    "   - Facilitate electronic payment options for stamp duty fees. This reduces the need for physical cash transactions and enhances the efficiency of the payment process."
   ]
  },
  {
   "cell_type": "markdown",
   "id": "1ffd6763",
   "metadata": {},
   "source": [
    "Q4. Categorize districts into three segments based on their stamp \n",
    "registration revenue generation during the fiscal year 2021 to 2022"
   ]
  },
  {
   "cell_type": "code",
   "execution_count": null,
   "id": "2b824cfd",
   "metadata": {},
   "outputs": [],
   "source": [
    "estamps_2021_2022=df_fact_stamps_district.groupby(by=['district','year'])['estamps_challans_rev'].sum().to_frame().reset_index()\n",
    "estamps_2021_2022=estamps_2021_2022[(estamps_2021_2022['year']==2021) | (estamps_2021_2022['year']==2022)]\n",
    "estamps_2021_2022=estamps_2021_2022.groupby(by='district')['estamps_challans_rev'].sum().to_frame().reset_index()\n",
    "\n",
    "#estamps_2021_2022['estamps_challans_rev'].describe()\n",
    "\n",
    "def cat_segments(x):\n",
    "    if x>=1.247532e+08 and x<6.892411e+08:\n",
    "        return 'low'\n",
    "    elif x>=6.892411e+08 and x<2.616787e+09:\n",
    "        return 'medium'\n",
    "    elif x>=2.616787e+09:\n",
    "        return 'high'\n",
    "    \n",
    "estamps_2021_2022['cat_segments']=estamps_2021_2022['estamps_challans_rev'].apply(lambda x:cat_segments(x))\n",
    "estamps_2021_2022['estamps_challans_rev'].describe()"
   ]
  },
  {
   "cell_type": "code",
   "execution_count": null,
   "id": "118dd57f",
   "metadata": {},
   "outputs": [],
   "source": [
    "estamps_2021_2022.head()\n",
    "estamps_2021_2022.to_csv('estamps_2021_2022.csv')"
   ]
  },
  {
   "cell_type": "code",
   "execution_count": null,
   "id": "aec91de3",
   "metadata": {
    "scrolled": true
   },
   "outputs": [],
   "source": [
    "pd.crosstab(estamps_2021_2022['district'], estamps_2021_2022['cat_segments']) \n",
    " "
   ]
  },
  {
   "cell_type": "code",
   "execution_count": null,
   "id": "676699bb",
   "metadata": {},
   "outputs": [],
   "source": [
    "print('Districts falling in low segments')\n",
    "estamps_2021_2022[estamps_2021_2022['cat_segments']=='low']['district']"
   ]
  },
  {
   "cell_type": "code",
   "execution_count": null,
   "id": "4437d567",
   "metadata": {},
   "outputs": [],
   "source": [
    "print('Districts falling in medium segments')\n",
    "estamps_2021_2022[estamps_2021_2022['cat_segments']=='medium']['district']"
   ]
  },
  {
   "cell_type": "code",
   "execution_count": null,
   "id": "db3e11d7",
   "metadata": {},
   "outputs": [],
   "source": [
    "print('Districts falling in high segments')\n",
    "estamps_2021_2022[estamps_2021_2022['cat_segments']=='high']['district']"
   ]
  },
  {
   "cell_type": "markdown",
   "id": "da8efdc1",
   "metadata": {},
   "source": [
    "TRANSPORTATION"
   ]
  },
  {
   "cell_type": "code",
   "execution_count": null,
   "id": "773ea95a",
   "metadata": {},
   "outputs": [],
   "source": [
    "#fact_transport.csv\n",
    "df_fact_transport=pd.read_csv('fact_transport.csv')"
   ]
  },
  {
   "cell_type": "code",
   "execution_count": null,
   "id": "af0de55e",
   "metadata": {},
   "outputs": [],
   "source": [
    "df_fact_transport.info()"
   ]
  },
  {
   "cell_type": "code",
   "execution_count": null,
   "id": "f6f56780",
   "metadata": {},
   "outputs": [],
   "source": [
    "df_fact_transport.head()"
   ]
  },
  {
   "cell_type": "code",
   "execution_count": null,
   "id": "be6baba7",
   "metadata": {},
   "outputs": [],
   "source": [
    "sns.histplot(x=df_fact_transport['fuel_type_petrol'])"
   ]
  },
  {
   "cell_type": "code",
   "execution_count": null,
   "id": "0116f950",
   "metadata": {},
   "outputs": [],
   "source": [
    "sns.histplot(x=df_fact_transport['fuel_type_diesel'])"
   ]
  },
  {
   "cell_type": "code",
   "execution_count": null,
   "id": "c6f0e9b7",
   "metadata": {},
   "outputs": [],
   "source": [
    "sns.histplot(x=df_fact_transport['vehicleClass_MotorCycle'])"
   ]
  },
  {
   "cell_type": "markdown",
   "id": "a7c15b91",
   "metadata": {},
   "source": [
    "THE GRAPH BELOW SHOWS HOW EACH FEATURE IS RELATED WITH OTHER"
   ]
  },
  {
   "cell_type": "code",
   "execution_count": null,
   "id": "c7537924",
   "metadata": {},
   "outputs": [],
   "source": [
    "sns.pairplot(df_fact_transport)"
   ]
  },
  {
   "cell_type": "code",
   "execution_count": null,
   "id": "a2034d74",
   "metadata": {},
   "outputs": [],
   "source": [
    "df_fact_transport"
   ]
  },
  {
   "cell_type": "markdown",
   "id": "b6bf5be2",
   "metadata": {},
   "source": [
    "Q5:PART_1 correlation between vehicle sales and \n",
    "specific months or seasons in different districts"
   ]
  },
  {
   "cell_type": "code",
   "execution_count": null,
   "id": "4405d1c8",
   "metadata": {},
   "outputs": [],
   "source": [
    "df_fact_transport['date']=df_fact_transport['month'].apply(lambda x:datetime.strptime(x,'%Y-%m-%d'))\n",
    "df_fact_transport['month']=df_fact_transport['date'].apply(lambda x:x.month)"
   ]
  },
  {
   "cell_type": "code",
   "execution_count": null,
   "id": "7b197508",
   "metadata": {},
   "outputs": [],
   "source": [
    "df_fact_transport_district=pd.merge(left=df_fact_transport,right=df_district,on='dist_code',how='inner')"
   ]
  },
  {
   "cell_type": "code",
   "execution_count": null,
   "id": "c6e4da8f",
   "metadata": {},
   "outputs": [],
   "source": [
    "#fuel_type_petrol\tfuel_type_diesel\tfuel_type_electric\tfuel_type_others\n",
    "df_fact_transport['total_sales']=df_fact_transport['fuel_type_petrol']+df_fact_transport['fuel_type_diesel']+df_fact_transport['fuel_type_electric']+df_fact_transport['fuel_type_others']\n",
    "\n",
    "sns.barplot(x=df_fact_transport['month'],y=df_fact_transport['total_sales'])\n"
   ]
  },
  {
   "cell_type": "markdown",
   "id": "059b2436",
   "metadata": {},
   "source": [
    "FROM THE GRAPH ABOVE OCTOBER AD APRIL HAVE HIGHER AND LOWER SALES REPECTIVELY WITH RESPECT TO PETROL,DIESEL,ELECTRIC ETC "
   ]
  },
  {
   "cell_type": "code",
   "execution_count": null,
   "id": "4cde4d4c",
   "metadata": {},
   "outputs": [],
   "source": [
    "#df_fact_transport_district.groupby(by=['district','month'])['total_sales'].sum().to_frame().reset_index().sort_values(by='total_sales',ascending=False)\n",
    "\n",
    "df_fact_transport_district.head()"
   ]
  },
  {
   "cell_type": "markdown",
   "id": "7408c5ea",
   "metadata": {},
   "source": [
    "Months that consistently show higher or lower sales rate \n",
    "\n",
    "FOR PETROL HIGH MONTH SALES ARE IN  OCTOBER AND LOW MONTH SALES ARE IN APRIL\n"
   ]
  },
  {
   "cell_type": "code",
   "execution_count": null,
   "id": "03c7835a",
   "metadata": {},
   "outputs": [],
   "source": [
    "df_fact_transport_district.groupby(by='month')['fuel_type_petrol'].sum().to_frame().plot()"
   ]
  },
  {
   "cell_type": "markdown",
   "id": "2923328d",
   "metadata": {},
   "source": [
    "FOR DIESEL HIGH MONTH SALES ARE IN OCTOBER AND LOW MONTH SALES ARE IN APRIL"
   ]
  },
  {
   "cell_type": "code",
   "execution_count": null,
   "id": "a16b0ab5",
   "metadata": {},
   "outputs": [],
   "source": []
  },
  {
   "cell_type": "code",
   "execution_count": null,
   "id": "9da8215d",
   "metadata": {},
   "outputs": [],
   "source": [
    "df_fact_transport_district.groupby(by='month')['fuel_type_diesel'].sum().to_frame().plot()"
   ]
  },
  {
   "cell_type": "markdown",
   "id": "8ae41832",
   "metadata": {},
   "source": [
    "FOR ELECTRIC HIGH MONTH SALES ARE IN MARCH AND LOW MONTH SALES ARE IN MAY"
   ]
  },
  {
   "cell_type": "code",
   "execution_count": null,
   "id": "49f3d78f",
   "metadata": {},
   "outputs": [],
   "source": [
    "df_fact_transport_district.groupby(by='month')['fuel_type_electric'].sum().to_frame().plot()"
   ]
  },
  {
   "cell_type": "code",
   "execution_count": null,
   "id": "197cf6a3",
   "metadata": {},
   "outputs": [],
   "source": [
    "df_fact_transport_district.groupby(by='date')['fuel_type_electric'].sum().to_frame().plot()"
   ]
  },
  {
   "cell_type": "markdown",
   "id": "cec355d8",
   "metadata": {},
   "source": [
    "The sales of electric vehicles increased from 2019 to 2023 and is still increasing"
   ]
  },
  {
   "cell_type": "code",
   "execution_count": null,
   "id": "c2316a4d",
   "metadata": {},
   "outputs": [],
   "source": [
    "df_fact_transport_district.groupby(by='month')['fuel_type_others'].sum().to_frame().plot()"
   ]
  },
  {
   "cell_type": "code",
   "execution_count": null,
   "id": "7906f853",
   "metadata": {},
   "outputs": [],
   "source": [
    "import seaborn as sns\n",
    "\n",
    "# Sample data creation\n",
    "data = {'Date':df_fact_transport_district.groupby(by='date')['fuel_type_electric'].sum().index,\n",
    "        'electric': df_fact_transport_district.groupby(by='date')['fuel_type_electric'].sum().values,\n",
    "        'diesel': df_fact_transport_district.groupby(by='date')['fuel_type_diesel'].sum().values,\n",
    "        'petrol':df_fact_transport_district.groupby(by='date')['fuel_type_petrol'].sum().values\n",
    "       }\n",
    "\n",
    "df = pd.DataFrame(data)\n",
    "df['Date'] = pd.to_datetime(df['Date'])  # Convert 'Date' column to datetime format\n",
    "\n",
    "# Melt the DataFrame to make it suitable for Seaborn's lineplot\n",
    "df_melted = df.melt(id_vars='Date', var_name='Feature', value_name='Value')\n",
    "\n",
    "# Plotting using Seaborn\n",
    "plt.figure(figsize=(10, 6))\n",
    "sns.lineplot(x='Date', y='Value', hue='Feature', data=df_melted, marker='o')\n",
    "\n",
    "plt.title('Comparison of various fuel type over Time')\n",
    "plt.xlabel('Date')\n",
    "plt.ylabel('Feature Values')\n",
    "plt.legend()\n",
    "plt.grid(True)\n",
    "plt.show()\n"
   ]
  },
  {
   "cell_type": "code",
   "execution_count": null,
   "id": "8abc8d82",
   "metadata": {},
   "outputs": [],
   "source": []
  },
  {
   "cell_type": "code",
   "execution_count": null,
   "id": "e83b75d6",
   "metadata": {},
   "outputs": [],
   "source": [
    "print(sns.heatmap(np.corrcoef(df_fact_transport['month'],df_fact_transport['total_sales']),annot=True))\n",
    "print('As the value of r is near to zero there is correlation')"
   ]
  },
  {
   "cell_type": "markdown",
   "id": "08ce6d14",
   "metadata": {},
   "source": [
    "Q6. Part1--> Distribution of vehicles vary by vehicle class \n",
    "(MotorCycle, MotorCar, AutoRickshaw, Agriculture) across different \n",
    "districts"
   ]
  },
  {
   "cell_type": "code",
   "execution_count": null,
   "id": "0de99009",
   "metadata": {},
   "outputs": [],
   "source": [
    "'''''\n",
    "plt.figure(figsize=(20, 6))\n",
    "plt.bar(df_fact_transport_district.groupby(by='district')['vehicleClass_MotorCycle'].sum().index, df_fact_transport_district.groupby(by='district')['vehicleClass_MotorCycle'].sum().values, color='r')\n",
    "plt.bar(df_fact_transport_district.groupby(by='district')['vehicleClass_MotorCycle'].sum().index, df_fact_transport_district.groupby(by='district')['vehicleClass_MotorCar'].sum().values, color='b')\n",
    "plt.bar(df_fact_transport_district.groupby(by='district')['vehicleClass_MotorCycle'].sum().index, df_fact_transport_district.groupby(by='district')['vehicleClass_AutoRickshaw'].sum().values, color='y')\n",
    "plt.bar(df_fact_transport_district.groupby(by='district')['vehicleClass_MotorCycle'].sum().index, df_fact_transport_district.groupby(by='district')['vehicleClass_Agriculture'].sum().values, color='g')\n",
    "\n",
    "plt.show()\n",
    "\n",
    "df_vehicletype_district.plot(x='district', kind='bar', stacked=True,\n",
    "        title='Stacked Bar Graph by dataframe')\n",
    "plt.show()\n",
    "'''''\n",
    "\n",
    "df_fact_transport_district['year']=df_fact_transport_district['date'].apply(lambda x:x.year)\n",
    "df_fact_transport_district_2022=df_fact_transport_district[df_fact_transport_district['year']==2022]\n",
    "df_vehicletype_district=df_fact_transport_district_2022[['district','vehicleClass_MotorCycle','vehicleClass_MotorCar','vehicleClass_Agriculture','vehicleClass_AutoRickshaw']]\n",
    "\n",
    "df_vehicletype_district=df_vehicletype_district.groupby(by='district').sum().reset_index()\n",
    "plt.figure(figsize=(20, 10))\n",
    "df_vehicletype_district.plot(x='district', kind='bar', stacked=True,\n",
    "        title='distribution of vehicles vary  vehicle class ')\n",
    "plt.show()"
   ]
  },
  {
   "cell_type": "markdown",
   "id": "5dda004c",
   "metadata": {},
   "source": [
    "Q6 PART2--> districts with a predominant preference for a specific vehicle class"
   ]
  },
  {
   "cell_type": "code",
   "execution_count": null,
   "id": "8ce8f6c2",
   "metadata": {},
   "outputs": [],
   "source": [
    "\"\"\"\"\"\n",
    "fig = plt.figure(figsize =(10, 7))\n",
    "plt.pie(df_vehicletype_district['vehicleClass_MotorCycle'], labels = df_vehicletype_district['district'])\n",
    "\n",
    "\"\"\"\"\"\n",
    "\n",
    "import plotly.express as px\n",
    "fig = px.pie(df_vehicletype_district, values='vehicleClass_MotorCycle', names='district')\n",
    "fig.show()\n",
    "print('Hyderabad, Medchal_Malkajgiri and Rangareddy are top 3 districts based motorcycle vehicle class')"
   ]
  },
  {
   "cell_type": "code",
   "execution_count": null,
   "id": "13430cfa",
   "metadata": {},
   "outputs": [],
   "source": [
    "fig = px.pie(df_vehicletype_district, values='vehicleClass_MotorCar', names='district')\n",
    "fig.show()\n",
    "print('Rangareddy,Mechal_Malkajgiri and Hyderabad are top 3 districts based to MotorCar vehicle class')"
   ]
  },
  {
   "cell_type": "code",
   "execution_count": null,
   "id": "1da6b45a",
   "metadata": {},
   "outputs": [],
   "source": [
    "fig = px.pie(df_vehicletype_district, values='vehicleClass_Agriculture', names='district')\n",
    "fig.show()\n",
    "print('Nalgonda,siddhipet anf suryapet are top3 districts based on agriculture vehicle class')"
   ]
  },
  {
   "cell_type": "code",
   "execution_count": null,
   "id": "b93a04e9",
   "metadata": {},
   "outputs": [],
   "source": [
    "fig = px.pie(df_vehicletype_district, values='vehicleClass_AutoRickshaw', names='district')\n",
    "fig.show()\n",
    "print('Hyderabad,Sangareddy and Khammam are top 3 districts based on autorickshaw vehicle class')"
   ]
  },
  {
   "cell_type": "code",
   "execution_count": null,
   "id": "64a7a217",
   "metadata": {},
   "outputs": [],
   "source": [
    "df_fact_transport_district_2022=df_fact_transport_district[(df_fact_transport_district['year']==2022)]\n",
    "df_fact_transport_district_2021=df_fact_transport_district[(df_fact_transport_district['year']==2021)]\n",
    "df_fact_transport_district_2022_fueltype=df_fact_transport_district_2022[['district','fuel_type_petrol','fuel_type_diesel','fuel_type_electric']].groupby(by='district').sum().reset_index()\n",
    "df_fact_transport_district_2021_fueltype=df_fact_transport_district_2021[['district','fuel_type_petrol','fuel_type_diesel','fuel_type_electric']].groupby(by='district').sum().reset_index()\n",
    "\n",
    "df_fact_transport_district_2021_2022=pd.merge(left=df_fact_transport_district_2021_fueltype,right=df_fact_transport_district_2022_fueltype,on='district',how='inner')\n",
    "df_fact_transport_district_2021_2022=df_fact_transport_district_2021_2022.rename(columns={'fuel_type_petrol_x':'fuel_type_petrol_2021','fuel_type_diesel_x':'fuel_type_diesel_2021','fuel_type_electric_x':'fuel_type_electric_2021',\n",
    "                                                                                        'fuel_type_petrol_y':'fuel_type_petrol_2022','fuel_type_diesel_y':'fuel_type_diesel_2022','fuel_type_electric_y':'fuel_type_electric_2022', })\n",
    "df_fact_transport_district_2021_2022['petrol_diff']=df_fact_transport_district_2021_2022['fuel_type_petrol_2022']-df_fact_transport_district_2021_2022['fuel_type_petrol_2021']\n",
    "df_fact_transport_district_2021_2022['diesel_diff']=df_fact_transport_district_2021_2022['fuel_type_diesel_2022']-df_fact_transport_district_2021_2022['fuel_type_diesel_2021']\n",
    "df_fact_transport_district_2021_2022['electric_diff']=df_fact_transport_district_2021_2022['fuel_type_electric_2022']-df_fact_transport_district_2021_2022['fuel_type_electric_2021']\n",
    "df_fact_transport_district_2021_2022['petrol_status']=df_fact_transport_district_2021_2022['petrol_diff'].apply(lambda x:'sales increased' if x>0 else 'decreased')\n",
    "df_fact_transport_district_2021_2022['diesel_status']=df_fact_transport_district_2021_2022['diesel_diff'].apply(lambda x:'sales increased' if x>0 else 'decreased')\n",
    "df_fact_transport_district_2021_2022['electric_status']=df_fact_transport_district_2021_2022['electric_diff'].apply(lambda x:'sales increased' if x>0 else 'decreased')\n",
    "\n",
    "\n",
    "\n",
    "df_fact_transport_district_2021_2022"
   ]
  },
  {
   "cell_type": "code",
   "execution_count": null,
   "id": "807286fd",
   "metadata": {},
   "outputs": [],
   "source": []
  },
  {
   "cell_type": "markdown",
   "id": "96fcb1c2",
   "metadata": {},
   "source": [
    "Q7. List down the top 3 and bottom 3 districts that have shown the highest \n",
    "and lowest vehicle sales growth during FY 2022 compared to FY \n",
    "2021"
   ]
  },
  {
   "cell_type": "code",
   "execution_count": null,
   "id": "2c94af83",
   "metadata": {},
   "outputs": [],
   "source": [
    "df_fact_transport_district_2021_2022.sort_values(by='petrol_diff',ascending=False)[['district','petrol_status']].head(3)"
   ]
  },
  {
   "cell_type": "code",
   "execution_count": null,
   "id": "e57312ff",
   "metadata": {},
   "outputs": [],
   "source": [
    "df_fact_transport_district_2021_2022.sort_values(by='petrol_diff',ascending=True)[['district','petrol_status']].head(3)"
   ]
  },
  {
   "cell_type": "code",
   "execution_count": null,
   "id": "10bb3ac3",
   "metadata": {},
   "outputs": [],
   "source": [
    "df_fact_transport_district_2021_2022.sort_values(by='diesel_diff',ascending=False)[['district','diesel_status']].head(3)"
   ]
  },
  {
   "cell_type": "code",
   "execution_count": null,
   "id": "e558f7dd",
   "metadata": {},
   "outputs": [],
   "source": [
    "df_fact_transport_district_2021_2022.sort_values(by='diesel_diff',ascending=True)[['district','diesel_status']].head(3)"
   ]
  },
  {
   "cell_type": "code",
   "execution_count": null,
   "id": "2cd05637",
   "metadata": {},
   "outputs": [],
   "source": [
    "df_fact_transport_district_2021_2022.sort_values(by='electric_diff',ascending=False)[['district','electric_status']].head(3)"
   ]
  },
  {
   "cell_type": "code",
   "execution_count": null,
   "id": "28f603ef",
   "metadata": {},
   "outputs": [],
   "source": [
    "df_fact_transport_district_2021_2022.sort_values(by='electric_diff',ascending=True)[['district','electric_status']].head(3)"
   ]
  },
  {
   "cell_type": "code",
   "execution_count": null,
   "id": "1b93ec4a",
   "metadata": {},
   "outputs": [],
   "source": [
    "df_fact_transport_district.info()"
   ]
  },
  {
   "cell_type": "code",
   "execution_count": null,
   "id": "22c575db",
   "metadata": {},
   "outputs": [],
   "source": [
    "#fact_TS_iPASS.csv\n",
    "df_fact_ts_pass=pd.read_csv('fact_TS_iPASS.csv')"
   ]
  },
  {
   "cell_type": "code",
   "execution_count": null,
   "id": "dee58698",
   "metadata": {},
   "outputs": [],
   "source": [
    "df_fact_ts_pass.head()"
   ]
  },
  {
   "cell_type": "code",
   "execution_count": null,
   "id": "2b8bd50f",
   "metadata": {},
   "outputs": [],
   "source": [
    "df_fact_ts_pass['date']=df_fact_ts_pass['month'].apply(lambda x:datetime.strptime(x,'%d-%m-%Y'))\n",
    "df_fact_ts_pass['year']=df_fact_ts_pass['date'].apply(lambda x:x.year)\n",
    "df_fact_ts_pass['month_ts_pass']=df_fact_ts_pass['date'].apply(lambda x:x.month)\n",
    "df_fact_ts_pass_2022=df_fact_ts_pass[df_fact_ts_pass['year']==2022]\n",
    "df_fact_ts_pass.info()"
   ]
  },
  {
   "cell_type": "markdown",
   "id": "93944df6",
   "metadata": {},
   "source": [
    "Q8.List down the top 5 sectors that have witnessed the most significant \n",
    "investments in FY 2022"
   ]
  },
  {
   "cell_type": "code",
   "execution_count": null,
   "id": "cb2080d1",
   "metadata": {},
   "outputs": [],
   "source": [
    "fig = plt.figure(figsize =(60, 7))\n",
    "fig = px.pie(df_fact_ts_pass_2022, values='investment in cr', names='sector')\n",
    "fig.show()\n",
    "print('Real estate,plastic and rubber,pharmaceutical and chemical,solar and other beverages are top5 sectors based on investment')"
   ]
  },
  {
   "cell_type": "code",
   "execution_count": null,
   "id": "d5b875f2",
   "metadata": {},
   "outputs": [],
   "source": [
    "df_fact_ts_pass_district=pd.merge(left=df_fact_ts_pass,right=df_district,on='dist_code',how='inner')"
   ]
  },
  {
   "cell_type": "code",
   "execution_count": null,
   "id": "1445cbfe",
   "metadata": {},
   "outputs": [],
   "source": [
    "fig = plt.figure(figsize =(60, 7))\n",
    "fig = px.pie(df_fact_ts_pass_district, values='investment in cr', names='district')\n",
    "fig.show()\n",
    "print('District wise investment')"
   ]
  },
  {
   "cell_type": "code",
   "execution_count": null,
   "id": "903cfa2c",
   "metadata": {},
   "outputs": [],
   "source": [
    "dfs_to_merge = [df_district,df_fact_stamps,df_fact_transport, df_fact_ts_pass]\n",
    "from functools import reduce\n",
    "\n",
    "merged_dfs = reduce(lambda left, right: pd.merge(left, right, on='dist_code', how='inner'), dfs_to_merge)\n",
    "\n",
    "\n",
    "\n",
    "\n",
    "\n",
    "#df_fact_ts_pass_stamps_districts_transport=pd.merge(left=df_district,df_fact_stamps,df_fact_transport,right=df_fact_ts_pass,on='dist_code',how='inner')"
   ]
  },
  {
   "cell_type": "code",
   "execution_count": null,
   "id": "8b825dbb",
   "metadata": {},
   "outputs": [],
   "source": [
    "merged_dfs.drop_duplicates(inplace=True)\n",
    "merged_dfs.info()\n"
   ]
  },
  {
   "cell_type": "code",
   "execution_count": null,
   "id": "42f08f2e",
   "metadata": {},
   "outputs": [],
   "source": [
    "merged_dfs.total_sales=merged_dfs['category_Non-Transport']\n",
    "merged_dfs.columns"
   ]
  },
  {
   "cell_type": "code",
   "execution_count": null,
   "id": "037d4402",
   "metadata": {},
   "outputs": [],
   "source": [
    "#10000000\n",
    "merged_dfs['investment in cr']=merged_dfs['investment in cr']*10000000"
   ]
  },
  {
   "cell_type": "code",
   "execution_count": null,
   "id": "5c24487d",
   "metadata": {},
   "outputs": [],
   "source": [
    "merged_dfs_2021_2022=merged_dfs[(merged_dfs['year']==2021) | (merged_dfs['year']==2022)]"
   ]
  },
  {
   "cell_type": "code",
   "execution_count": null,
   "id": "b7be1cd2",
   "metadata": {},
   "outputs": [],
   "source": [
    "merged_dfs_2021_2022_relationship=merged_dfs_2021_2022[['district','estamps_challans_rev','investment in cr','total_sales']]"
   ]
  },
  {
   "cell_type": "markdown",
   "id": "2c1a23f6",
   "metadata": {},
   "source": [
    "Q10. Relationship between district investments, vehicles\n",
    " sales and stamps revenue within the same district between FY 2021\n",
    " and 2022"
   ]
  },
  {
   "cell_type": "code",
   "execution_count": null,
   "id": "4ec2daff",
   "metadata": {},
   "outputs": [],
   "source": [
    "sns.heatmap(merged_dfs_2021_2022_relationship.drop('district',axis=1).corr(),annot=True)"
   ]
  },
  {
   "cell_type": "code",
   "execution_count": null,
   "id": "dd7e0ce7",
   "metadata": {},
   "outputs": [],
   "source": [
    "districts=merged_dfs_2021_2022_relationship['district'].value_counts().index\n",
    "\n",
    "\n",
    "for district in districts:\n",
    "    plt.figure(figsize=(8, 6))\n",
    "    sns.heatmap(merged_dfs_2021_2022_relationship[merged_dfs_2021_2022_relationship['district']==district].drop('district',axis=1).corr(),annot=True)\n",
    "    plt.title(f'Correlation Heatmap - {district}')\n",
    "    plt.show()"
   ]
  },
  {
   "cell_type": "markdown",
   "id": "caad25da",
   "metadata": {},
   "source": [
    "There is no district in which the positive correlation value between any two features ('estamps_challans_rev','investment in cr','total_sales'). This indicates there is no relationship between them"
   ]
  },
  {
   "cell_type": "markdown",
   "id": "08ef7147",
   "metadata": {},
   "source": [
    "Q11. Particular sectors that have shown substantial \n",
    " investment in multiple districts between FY 2021 and 2022. The graph below shows for each particular district distribution of sectors"
   ]
  },
  {
   "cell_type": "code",
   "execution_count": null,
   "id": "ca8d5493",
   "metadata": {},
   "outputs": [],
   "source": []
  },
  {
   "cell_type": "code",
   "execution_count": null,
   "id": "87b1e272",
   "metadata": {},
   "outputs": [],
   "source": [
    "for district in districts:\n",
    "    fig = plt.figure(figsize =(60, 7))\n",
    "    fig = px.pie(merged_dfs_2021_2022[merged_dfs_2021_2022['district']==district], values='investment in cr', names='sector')\n",
    "    print(f'Sector wise investment - {district}')\n",
    "    fig.show()\n",
    "\n",
    "\n",
    "\n",
    "\n",
    "\n",
    "\n"
   ]
  },
  {
   "cell_type": "markdown",
   "id": "4698437d",
   "metadata": {},
   "source": [
    "Q11. Do certain sectors \n",
    " experience higher investments during particular months"
   ]
  },
  {
   "cell_type": "code",
   "execution_count": null,
   "id": "6e5c091f",
   "metadata": {},
   "outputs": [],
   "source": [
    "sectors=merged_dfs_2021_2022['sector'].value_counts().index\n",
    "\n",
    "for sector in sectors:\n",
    "    fig = plt.figure(figsize =(150, 10))\n",
    "    merged_dfs_2021_2022[merged_dfs_2021_2022['sector']==sector].groupby(by='month')['fuel_type_others'].sum().to_frame().plot()\n",
    "    plt.title(f'Sector wise investment - {sector}')\n",
    "    fig.show()\n",
    "\n",
    "print('FOR EACH SECTOR IT DISPLAYS TREND OF INVESTMENT ACROSS 2021 AND 2022')"
   ]
  },
  {
   "cell_type": "code",
   "execution_count": null,
   "id": "fbeba9c5",
   "metadata": {},
   "outputs": [],
   "source": [
    "merged_dfs_2021_2022.head()"
   ]
  },
  {
   "cell_type": "code",
   "execution_count": null,
   "id": "3fa151d6",
   "metadata": {},
   "outputs": [],
   "source": [
    "df_fact_ts_pass.head()"
   ]
  },
  {
   "cell_type": "code",
   "execution_count": null,
   "id": "bd519815",
   "metadata": {},
   "outputs": [],
   "source": [
    "df_fact_transport_district.head()"
   ]
  },
  {
   "cell_type": "code",
   "execution_count": null,
   "id": "c9e39bff",
   "metadata": {},
   "outputs": [],
   "source": [
    "df_fact_ts_pass['sector'].value_counts()"
   ]
  },
  {
   "cell_type": "code",
   "execution_count": null,
   "id": "ff4bb7eb",
   "metadata": {},
   "outputs": [],
   "source": [
    "df_tspass_district=pd.merge(left=df_fact_ts_pass,right=df_district,on='dist_code',how='inner')"
   ]
  },
  {
   "cell_type": "markdown",
   "id": "310d0e92",
   "metadata": {},
   "source": [
    "Top 5 districts to buy commercial properties in \n",
    "Telangana"
   ]
  },
  {
   "cell_type": "code",
   "execution_count": null,
   "id": "11067258",
   "metadata": {},
   "outputs": [],
   "source": [
    "df_tspass_district[df_tspass_district['sector']=='Real Estate,Industrial Parks and IT Buildings'].groupby(by='district')['investment in cr'].sum().sort_values(ascending=False).to_frame()"
   ]
  },
  {
   "cell_type": "code",
   "execution_count": null,
   "id": "3b0a9a5c",
   "metadata": {},
   "outputs": [],
   "source": []
  }
 ],
 "metadata": {
  "kernelspec": {
   "display_name": "Python 3 (ipykernel)",
   "language": "python",
   "name": "python3"
  },
  "language_info": {
   "codemirror_mode": {
    "name": "ipython",
    "version": 3
   },
   "file_extension": ".py",
   "mimetype": "text/x-python",
   "name": "python",
   "nbconvert_exporter": "python",
   "pygments_lexer": "ipython3",
   "version": "3.10.9"
  }
 },
 "nbformat": 4,
 "nbformat_minor": 5
}
